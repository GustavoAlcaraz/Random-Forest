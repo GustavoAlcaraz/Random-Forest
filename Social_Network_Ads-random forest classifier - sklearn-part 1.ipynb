{
 "cells": [
  {
   "cell_type": "markdown",
   "metadata": {},
   "source": [
    "IMPORTING LABRARIES"
   ]
  },
  {
   "cell_type": "code",
   "execution_count": 54,
   "metadata": {},
   "outputs": [],
   "source": [
    "import numpy as np\n",
    "import matplotlib.pyplot as plt\n",
    "import pandas as pd\n",
    "from sklearn.preprocessing import StandardScaler\n",
    "from sklearn.ensemble import RandomForestClassifier\n",
    "from sklearn.preprocessing import LabelEncoder\n",
    "from sklearn.metrics import confusion_matrix\n",
    "from matplotlib.colors import ListedColormap\n",
    "from sklearn.model_selection import train_test_split"
   ]
  },
  {
   "cell_type": "markdown",
   "metadata": {},
   "source": [
    "Importing the datasets"
   ]
  },
  {
   "cell_type": "code",
   "execution_count": 2,
   "metadata": {},
   "outputs": [],
   "source": [
    "data_raw = pd.read_csv('Social_Network_Ads.csv')"
   ]
  },
  {
   "cell_type": "code",
   "execution_count": 3,
   "metadata": {},
   "outputs": [
    {
     "data": {
      "text/html": [
       "<div>\n",
       "<style scoped>\n",
       "    .dataframe tbody tr th:only-of-type {\n",
       "        vertical-align: middle;\n",
       "    }\n",
       "\n",
       "    .dataframe tbody tr th {\n",
       "        vertical-align: top;\n",
       "    }\n",
       "\n",
       "    .dataframe thead th {\n",
       "        text-align: right;\n",
       "    }\n",
       "</style>\n",
       "<table border=\"1\" class=\"dataframe\">\n",
       "  <thead>\n",
       "    <tr style=\"text-align: right;\">\n",
       "      <th></th>\n",
       "      <th>User ID</th>\n",
       "      <th>Gender</th>\n",
       "      <th>Age</th>\n",
       "      <th>EstimatedSalary</th>\n",
       "      <th>Purchased</th>\n",
       "    </tr>\n",
       "  </thead>\n",
       "  <tbody>\n",
       "    <tr>\n",
       "      <th>0</th>\n",
       "      <td>15624510</td>\n",
       "      <td>Male</td>\n",
       "      <td>19</td>\n",
       "      <td>19000</td>\n",
       "      <td>0</td>\n",
       "    </tr>\n",
       "    <tr>\n",
       "      <th>1</th>\n",
       "      <td>15810944</td>\n",
       "      <td>Male</td>\n",
       "      <td>35</td>\n",
       "      <td>20000</td>\n",
       "      <td>0</td>\n",
       "    </tr>\n",
       "    <tr>\n",
       "      <th>2</th>\n",
       "      <td>15668575</td>\n",
       "      <td>Female</td>\n",
       "      <td>26</td>\n",
       "      <td>43000</td>\n",
       "      <td>0</td>\n",
       "    </tr>\n",
       "    <tr>\n",
       "      <th>3</th>\n",
       "      <td>15603246</td>\n",
       "      <td>Female</td>\n",
       "      <td>27</td>\n",
       "      <td>57000</td>\n",
       "      <td>0</td>\n",
       "    </tr>\n",
       "    <tr>\n",
       "      <th>4</th>\n",
       "      <td>15804002</td>\n",
       "      <td>Male</td>\n",
       "      <td>19</td>\n",
       "      <td>76000</td>\n",
       "      <td>0</td>\n",
       "    </tr>\n",
       "  </tbody>\n",
       "</table>\n",
       "</div>"
      ],
      "text/plain": [
       "    User ID  Gender  Age  EstimatedSalary  Purchased\n",
       "0  15624510    Male   19            19000          0\n",
       "1  15810944    Male   35            20000          0\n",
       "2  15668575  Female   26            43000          0\n",
       "3  15603246  Female   27            57000          0\n",
       "4  15804002    Male   19            76000          0"
      ]
     },
     "execution_count": 3,
     "metadata": {},
     "output_type": "execute_result"
    }
   ],
   "source": [
    "data_raw.head()"
   ]
  },
  {
   "cell_type": "code",
   "execution_count": 4,
   "metadata": {
    "collapsed": true
   },
   "outputs": [
    {
     "data": {
      "text/html": [
       "<div>\n",
       "<style scoped>\n",
       "    .dataframe tbody tr th:only-of-type {\n",
       "        vertical-align: middle;\n",
       "    }\n",
       "\n",
       "    .dataframe tbody tr th {\n",
       "        vertical-align: top;\n",
       "    }\n",
       "\n",
       "    .dataframe thead th {\n",
       "        text-align: right;\n",
       "    }\n",
       "</style>\n",
       "<table border=\"1\" class=\"dataframe\">\n",
       "  <thead>\n",
       "    <tr style=\"text-align: right;\">\n",
       "      <th></th>\n",
       "      <th>User ID</th>\n",
       "      <th>Age</th>\n",
       "      <th>EstimatedSalary</th>\n",
       "      <th>Purchased</th>\n",
       "    </tr>\n",
       "  </thead>\n",
       "  <tbody>\n",
       "    <tr>\n",
       "      <th>count</th>\n",
       "      <td>4.000000e+02</td>\n",
       "      <td>400.000000</td>\n",
       "      <td>400.000000</td>\n",
       "      <td>400.000000</td>\n",
       "    </tr>\n",
       "    <tr>\n",
       "      <th>mean</th>\n",
       "      <td>1.569154e+07</td>\n",
       "      <td>37.655000</td>\n",
       "      <td>69742.500000</td>\n",
       "      <td>0.357500</td>\n",
       "    </tr>\n",
       "    <tr>\n",
       "      <th>std</th>\n",
       "      <td>7.165832e+04</td>\n",
       "      <td>10.482877</td>\n",
       "      <td>34096.960282</td>\n",
       "      <td>0.479864</td>\n",
       "    </tr>\n",
       "    <tr>\n",
       "      <th>min</th>\n",
       "      <td>1.556669e+07</td>\n",
       "      <td>18.000000</td>\n",
       "      <td>15000.000000</td>\n",
       "      <td>0.000000</td>\n",
       "    </tr>\n",
       "    <tr>\n",
       "      <th>25%</th>\n",
       "      <td>1.562676e+07</td>\n",
       "      <td>29.750000</td>\n",
       "      <td>43000.000000</td>\n",
       "      <td>0.000000</td>\n",
       "    </tr>\n",
       "    <tr>\n",
       "      <th>50%</th>\n",
       "      <td>1.569434e+07</td>\n",
       "      <td>37.000000</td>\n",
       "      <td>70000.000000</td>\n",
       "      <td>0.000000</td>\n",
       "    </tr>\n",
       "    <tr>\n",
       "      <th>75%</th>\n",
       "      <td>1.575036e+07</td>\n",
       "      <td>46.000000</td>\n",
       "      <td>88000.000000</td>\n",
       "      <td>1.000000</td>\n",
       "    </tr>\n",
       "    <tr>\n",
       "      <th>max</th>\n",
       "      <td>1.581524e+07</td>\n",
       "      <td>60.000000</td>\n",
       "      <td>150000.000000</td>\n",
       "      <td>1.000000</td>\n",
       "    </tr>\n",
       "  </tbody>\n",
       "</table>\n",
       "</div>"
      ],
      "text/plain": [
       "            User ID         Age  EstimatedSalary   Purchased\n",
       "count  4.000000e+02  400.000000       400.000000  400.000000\n",
       "mean   1.569154e+07   37.655000     69742.500000    0.357500\n",
       "std    7.165832e+04   10.482877     34096.960282    0.479864\n",
       "min    1.556669e+07   18.000000     15000.000000    0.000000\n",
       "25%    1.562676e+07   29.750000     43000.000000    0.000000\n",
       "50%    1.569434e+07   37.000000     70000.000000    0.000000\n",
       "75%    1.575036e+07   46.000000     88000.000000    1.000000\n",
       "max    1.581524e+07   60.000000    150000.000000    1.000000"
      ]
     },
     "execution_count": 4,
     "metadata": {},
     "output_type": "execute_result"
    }
   ],
   "source": [
    "data_raw.describe()"
   ]
  },
  {
   "cell_type": "markdown",
   "metadata": {},
   "source": [
    "DROPPING User ID"
   ]
  },
  {
   "cell_type": "code",
   "execution_count": 5,
   "metadata": {},
   "outputs": [],
   "source": [
    "data_raw = data_raw.drop(['User ID'], axis= 1)"
   ]
  },
  {
   "cell_type": "code",
   "execution_count": 6,
   "metadata": {
    "collapsed": true
   },
   "outputs": [
    {
     "data": {
      "text/html": [
       "<div>\n",
       "<style scoped>\n",
       "    .dataframe tbody tr th:only-of-type {\n",
       "        vertical-align: middle;\n",
       "    }\n",
       "\n",
       "    .dataframe tbody tr th {\n",
       "        vertical-align: top;\n",
       "    }\n",
       "\n",
       "    .dataframe thead th {\n",
       "        text-align: right;\n",
       "    }\n",
       "</style>\n",
       "<table border=\"1\" class=\"dataframe\">\n",
       "  <thead>\n",
       "    <tr style=\"text-align: right;\">\n",
       "      <th></th>\n",
       "      <th>Gender</th>\n",
       "      <th>Age</th>\n",
       "      <th>EstimatedSalary</th>\n",
       "      <th>Purchased</th>\n",
       "    </tr>\n",
       "  </thead>\n",
       "  <tbody>\n",
       "    <tr>\n",
       "      <th>0</th>\n",
       "      <td>Male</td>\n",
       "      <td>19</td>\n",
       "      <td>19000</td>\n",
       "      <td>0</td>\n",
       "    </tr>\n",
       "    <tr>\n",
       "      <th>1</th>\n",
       "      <td>Male</td>\n",
       "      <td>35</td>\n",
       "      <td>20000</td>\n",
       "      <td>0</td>\n",
       "    </tr>\n",
       "    <tr>\n",
       "      <th>2</th>\n",
       "      <td>Female</td>\n",
       "      <td>26</td>\n",
       "      <td>43000</td>\n",
       "      <td>0</td>\n",
       "    </tr>\n",
       "    <tr>\n",
       "      <th>3</th>\n",
       "      <td>Female</td>\n",
       "      <td>27</td>\n",
       "      <td>57000</td>\n",
       "      <td>0</td>\n",
       "    </tr>\n",
       "    <tr>\n",
       "      <th>4</th>\n",
       "      <td>Male</td>\n",
       "      <td>19</td>\n",
       "      <td>76000</td>\n",
       "      <td>0</td>\n",
       "    </tr>\n",
       "  </tbody>\n",
       "</table>\n",
       "</div>"
      ],
      "text/plain": [
       "   Gender  Age  EstimatedSalary  Purchased\n",
       "0    Male   19            19000          0\n",
       "1    Male   35            20000          0\n",
       "2  Female   26            43000          0\n",
       "3  Female   27            57000          0\n",
       "4    Male   19            76000          0"
      ]
     },
     "execution_count": 6,
     "metadata": {},
     "output_type": "execute_result"
    }
   ],
   "source": [
    "data_raw.head()"
   ]
  },
  {
   "cell_type": "markdown",
   "metadata": {},
   "source": [
    "CHECKING FOR EMPTY ROWS "
   ]
  },
  {
   "cell_type": "code",
   "execution_count": 7,
   "metadata": {
    "collapsed": true
   },
   "outputs": [
    {
     "data": {
      "text/plain": [
       "Gender             0\n",
       "Age                0\n",
       "EstimatedSalary    0\n",
       "Purchased          0\n",
       "dtype: int64"
      ]
     },
     "execution_count": 7,
     "metadata": {},
     "output_type": "execute_result"
    }
   ],
   "source": [
    "data_raw.isnull().sum() "
   ]
  },
  {
   "cell_type": "markdown",
   "metadata": {},
   "source": [
    "DUMMY VARIABLES"
   ]
  },
  {
   "cell_type": "code",
   "execution_count": 8,
   "metadata": {},
   "outputs": [],
   "source": [
    "le_Gender = LabelEncoder()"
   ]
  },
  {
   "cell_type": "code",
   "execution_count": 9,
   "metadata": {},
   "outputs": [],
   "source": [
    "data_raw['Gender_n'] = le_Gender.fit_transform(data_raw['Gender'])"
   ]
  },
  {
   "cell_type": "code",
   "execution_count": 10,
   "metadata": {
    "collapsed": true
   },
   "outputs": [
    {
     "data": {
      "text/html": [
       "<div>\n",
       "<style scoped>\n",
       "    .dataframe tbody tr th:only-of-type {\n",
       "        vertical-align: middle;\n",
       "    }\n",
       "\n",
       "    .dataframe tbody tr th {\n",
       "        vertical-align: top;\n",
       "    }\n",
       "\n",
       "    .dataframe thead th {\n",
       "        text-align: right;\n",
       "    }\n",
       "</style>\n",
       "<table border=\"1\" class=\"dataframe\">\n",
       "  <thead>\n",
       "    <tr style=\"text-align: right;\">\n",
       "      <th></th>\n",
       "      <th>Gender</th>\n",
       "      <th>Age</th>\n",
       "      <th>EstimatedSalary</th>\n",
       "      <th>Purchased</th>\n",
       "      <th>Gender_n</th>\n",
       "    </tr>\n",
       "  </thead>\n",
       "  <tbody>\n",
       "    <tr>\n",
       "      <th>0</th>\n",
       "      <td>Male</td>\n",
       "      <td>19</td>\n",
       "      <td>19000</td>\n",
       "      <td>0</td>\n",
       "      <td>1</td>\n",
       "    </tr>\n",
       "    <tr>\n",
       "      <th>1</th>\n",
       "      <td>Male</td>\n",
       "      <td>35</td>\n",
       "      <td>20000</td>\n",
       "      <td>0</td>\n",
       "      <td>1</td>\n",
       "    </tr>\n",
       "    <tr>\n",
       "      <th>2</th>\n",
       "      <td>Female</td>\n",
       "      <td>26</td>\n",
       "      <td>43000</td>\n",
       "      <td>0</td>\n",
       "      <td>0</td>\n",
       "    </tr>\n",
       "    <tr>\n",
       "      <th>3</th>\n",
       "      <td>Female</td>\n",
       "      <td>27</td>\n",
       "      <td>57000</td>\n",
       "      <td>0</td>\n",
       "      <td>0</td>\n",
       "    </tr>\n",
       "    <tr>\n",
       "      <th>4</th>\n",
       "      <td>Male</td>\n",
       "      <td>19</td>\n",
       "      <td>76000</td>\n",
       "      <td>0</td>\n",
       "      <td>1</td>\n",
       "    </tr>\n",
       "  </tbody>\n",
       "</table>\n",
       "</div>"
      ],
      "text/plain": [
       "   Gender  Age  EstimatedSalary  Purchased  Gender_n\n",
       "0    Male   19            19000          0         1\n",
       "1    Male   35            20000          0         1\n",
       "2  Female   26            43000          0         0\n",
       "3  Female   27            57000          0         0\n",
       "4    Male   19            76000          0         1"
      ]
     },
     "execution_count": 10,
     "metadata": {},
     "output_type": "execute_result"
    }
   ],
   "source": [
    "data_raw.head()"
   ]
  },
  {
   "cell_type": "code",
   "execution_count": 12,
   "metadata": {},
   "outputs": [],
   "source": [
    "data_raw = data_raw.drop(['Gender'], axis= 1)"
   ]
  },
  {
   "cell_type": "code",
   "execution_count": 13,
   "metadata": {
    "collapsed": true
   },
   "outputs": [
    {
     "data": {
      "text/html": [
       "<div>\n",
       "<style scoped>\n",
       "    .dataframe tbody tr th:only-of-type {\n",
       "        vertical-align: middle;\n",
       "    }\n",
       "\n",
       "    .dataframe tbody tr th {\n",
       "        vertical-align: top;\n",
       "    }\n",
       "\n",
       "    .dataframe thead th {\n",
       "        text-align: right;\n",
       "    }\n",
       "</style>\n",
       "<table border=\"1\" class=\"dataframe\">\n",
       "  <thead>\n",
       "    <tr style=\"text-align: right;\">\n",
       "      <th></th>\n",
       "      <th>Age</th>\n",
       "      <th>EstimatedSalary</th>\n",
       "      <th>Purchased</th>\n",
       "      <th>Gender_n</th>\n",
       "    </tr>\n",
       "  </thead>\n",
       "  <tbody>\n",
       "    <tr>\n",
       "      <th>0</th>\n",
       "      <td>19</td>\n",
       "      <td>19000</td>\n",
       "      <td>0</td>\n",
       "      <td>1</td>\n",
       "    </tr>\n",
       "    <tr>\n",
       "      <th>1</th>\n",
       "      <td>35</td>\n",
       "      <td>20000</td>\n",
       "      <td>0</td>\n",
       "      <td>1</td>\n",
       "    </tr>\n",
       "    <tr>\n",
       "      <th>2</th>\n",
       "      <td>26</td>\n",
       "      <td>43000</td>\n",
       "      <td>0</td>\n",
       "      <td>0</td>\n",
       "    </tr>\n",
       "    <tr>\n",
       "      <th>3</th>\n",
       "      <td>27</td>\n",
       "      <td>57000</td>\n",
       "      <td>0</td>\n",
       "      <td>0</td>\n",
       "    </tr>\n",
       "    <tr>\n",
       "      <th>4</th>\n",
       "      <td>19</td>\n",
       "      <td>76000</td>\n",
       "      <td>0</td>\n",
       "      <td>1</td>\n",
       "    </tr>\n",
       "  </tbody>\n",
       "</table>\n",
       "</div>"
      ],
      "text/plain": [
       "   Age  EstimatedSalary  Purchased  Gender_n\n",
       "0   19            19000          0         1\n",
       "1   35            20000          0         1\n",
       "2   26            43000          0         0\n",
       "3   27            57000          0         0\n",
       "4   19            76000          0         1"
      ]
     },
     "execution_count": 13,
     "metadata": {},
     "output_type": "execute_result"
    }
   ],
   "source": [
    "data_raw.head()"
   ]
  },
  {
   "cell_type": "code",
   "execution_count": 25,
   "metadata": {},
   "outputs": [],
   "source": [
    "data_unscaled = data_raw.copy()"
   ]
  },
  {
   "cell_type": "code",
   "execution_count": 26,
   "metadata": {
    "collapsed": true
   },
   "outputs": [
    {
     "data": {
      "text/html": [
       "<div>\n",
       "<style scoped>\n",
       "    .dataframe tbody tr th:only-of-type {\n",
       "        vertical-align: middle;\n",
       "    }\n",
       "\n",
       "    .dataframe tbody tr th {\n",
       "        vertical-align: top;\n",
       "    }\n",
       "\n",
       "    .dataframe thead th {\n",
       "        text-align: right;\n",
       "    }\n",
       "</style>\n",
       "<table border=\"1\" class=\"dataframe\">\n",
       "  <thead>\n",
       "    <tr style=\"text-align: right;\">\n",
       "      <th></th>\n",
       "      <th>Age</th>\n",
       "      <th>EstimatedSalary</th>\n",
       "      <th>Purchased</th>\n",
       "      <th>Gender_n</th>\n",
       "    </tr>\n",
       "  </thead>\n",
       "  <tbody>\n",
       "    <tr>\n",
       "      <th>0</th>\n",
       "      <td>19</td>\n",
       "      <td>19000</td>\n",
       "      <td>0</td>\n",
       "      <td>1</td>\n",
       "    </tr>\n",
       "    <tr>\n",
       "      <th>1</th>\n",
       "      <td>35</td>\n",
       "      <td>20000</td>\n",
       "      <td>0</td>\n",
       "      <td>1</td>\n",
       "    </tr>\n",
       "    <tr>\n",
       "      <th>2</th>\n",
       "      <td>26</td>\n",
       "      <td>43000</td>\n",
       "      <td>0</td>\n",
       "      <td>0</td>\n",
       "    </tr>\n",
       "    <tr>\n",
       "      <th>3</th>\n",
       "      <td>27</td>\n",
       "      <td>57000</td>\n",
       "      <td>0</td>\n",
       "      <td>0</td>\n",
       "    </tr>\n",
       "    <tr>\n",
       "      <th>4</th>\n",
       "      <td>19</td>\n",
       "      <td>76000</td>\n",
       "      <td>0</td>\n",
       "      <td>1</td>\n",
       "    </tr>\n",
       "    <tr>\n",
       "      <th>...</th>\n",
       "      <td>...</td>\n",
       "      <td>...</td>\n",
       "      <td>...</td>\n",
       "      <td>...</td>\n",
       "    </tr>\n",
       "    <tr>\n",
       "      <th>395</th>\n",
       "      <td>46</td>\n",
       "      <td>41000</td>\n",
       "      <td>1</td>\n",
       "      <td>0</td>\n",
       "    </tr>\n",
       "    <tr>\n",
       "      <th>396</th>\n",
       "      <td>51</td>\n",
       "      <td>23000</td>\n",
       "      <td>1</td>\n",
       "      <td>1</td>\n",
       "    </tr>\n",
       "    <tr>\n",
       "      <th>397</th>\n",
       "      <td>50</td>\n",
       "      <td>20000</td>\n",
       "      <td>1</td>\n",
       "      <td>0</td>\n",
       "    </tr>\n",
       "    <tr>\n",
       "      <th>398</th>\n",
       "      <td>36</td>\n",
       "      <td>33000</td>\n",
       "      <td>0</td>\n",
       "      <td>1</td>\n",
       "    </tr>\n",
       "    <tr>\n",
       "      <th>399</th>\n",
       "      <td>49</td>\n",
       "      <td>36000</td>\n",
       "      <td>1</td>\n",
       "      <td>0</td>\n",
       "    </tr>\n",
       "  </tbody>\n",
       "</table>\n",
       "<p>400 rows × 4 columns</p>\n",
       "</div>"
      ],
      "text/plain": [
       "     Age  EstimatedSalary  Purchased  Gender_n\n",
       "0     19            19000          0         1\n",
       "1     35            20000          0         1\n",
       "2     26            43000          0         0\n",
       "3     27            57000          0         0\n",
       "4     19            76000          0         1\n",
       "..   ...              ...        ...       ...\n",
       "395   46            41000          1         0\n",
       "396   51            23000          1         1\n",
       "397   50            20000          1         0\n",
       "398   36            33000          0         1\n",
       "399   49            36000          1         0\n",
       "\n",
       "[400 rows x 4 columns]"
      ]
     },
     "execution_count": 26,
     "metadata": {},
     "output_type": "execute_result"
    }
   ],
   "source": [
    "data_unscaled"
   ]
  },
  {
   "cell_type": "markdown",
   "metadata": {},
   "source": [
    "SELECTING INPUTS AND OUTPUT"
   ]
  },
  {
   "cell_type": "code",
   "execution_count": 27,
   "metadata": {},
   "outputs": [],
   "source": [
    "target = data_unscaled.Purchased"
   ]
  },
  {
   "cell_type": "code",
   "execution_count": 28,
   "metadata": {},
   "outputs": [],
   "source": [
    "input_unscaled = data_unscaled.drop(['Purchased'], axis= 1)"
   ]
  },
  {
   "cell_type": "code",
   "execution_count": 29,
   "metadata": {
    "collapsed": true
   },
   "outputs": [
    {
     "data": {
      "text/html": [
       "<div>\n",
       "<style scoped>\n",
       "    .dataframe tbody tr th:only-of-type {\n",
       "        vertical-align: middle;\n",
       "    }\n",
       "\n",
       "    .dataframe tbody tr th {\n",
       "        vertical-align: top;\n",
       "    }\n",
       "\n",
       "    .dataframe thead th {\n",
       "        text-align: right;\n",
       "    }\n",
       "</style>\n",
       "<table border=\"1\" class=\"dataframe\">\n",
       "  <thead>\n",
       "    <tr style=\"text-align: right;\">\n",
       "      <th></th>\n",
       "      <th>Age</th>\n",
       "      <th>EstimatedSalary</th>\n",
       "      <th>Gender_n</th>\n",
       "    </tr>\n",
       "  </thead>\n",
       "  <tbody>\n",
       "    <tr>\n",
       "      <th>0</th>\n",
       "      <td>19</td>\n",
       "      <td>19000</td>\n",
       "      <td>1</td>\n",
       "    </tr>\n",
       "    <tr>\n",
       "      <th>1</th>\n",
       "      <td>35</td>\n",
       "      <td>20000</td>\n",
       "      <td>1</td>\n",
       "    </tr>\n",
       "    <tr>\n",
       "      <th>2</th>\n",
       "      <td>26</td>\n",
       "      <td>43000</td>\n",
       "      <td>0</td>\n",
       "    </tr>\n",
       "    <tr>\n",
       "      <th>3</th>\n",
       "      <td>27</td>\n",
       "      <td>57000</td>\n",
       "      <td>0</td>\n",
       "    </tr>\n",
       "    <tr>\n",
       "      <th>4</th>\n",
       "      <td>19</td>\n",
       "      <td>76000</td>\n",
       "      <td>1</td>\n",
       "    </tr>\n",
       "    <tr>\n",
       "      <th>...</th>\n",
       "      <td>...</td>\n",
       "      <td>...</td>\n",
       "      <td>...</td>\n",
       "    </tr>\n",
       "    <tr>\n",
       "      <th>395</th>\n",
       "      <td>46</td>\n",
       "      <td>41000</td>\n",
       "      <td>0</td>\n",
       "    </tr>\n",
       "    <tr>\n",
       "      <th>396</th>\n",
       "      <td>51</td>\n",
       "      <td>23000</td>\n",
       "      <td>1</td>\n",
       "    </tr>\n",
       "    <tr>\n",
       "      <th>397</th>\n",
       "      <td>50</td>\n",
       "      <td>20000</td>\n",
       "      <td>0</td>\n",
       "    </tr>\n",
       "    <tr>\n",
       "      <th>398</th>\n",
       "      <td>36</td>\n",
       "      <td>33000</td>\n",
       "      <td>1</td>\n",
       "    </tr>\n",
       "    <tr>\n",
       "      <th>399</th>\n",
       "      <td>49</td>\n",
       "      <td>36000</td>\n",
       "      <td>0</td>\n",
       "    </tr>\n",
       "  </tbody>\n",
       "</table>\n",
       "<p>400 rows × 3 columns</p>\n",
       "</div>"
      ],
      "text/plain": [
       "     Age  EstimatedSalary  Gender_n\n",
       "0     19            19000         1\n",
       "1     35            20000         1\n",
       "2     26            43000         0\n",
       "3     27            57000         0\n",
       "4     19            76000         1\n",
       "..   ...              ...       ...\n",
       "395   46            41000         0\n",
       "396   51            23000         1\n",
       "397   50            20000         0\n",
       "398   36            33000         1\n",
       "399   49            36000         0\n",
       "\n",
       "[400 rows x 3 columns]"
      ]
     },
     "execution_count": 29,
     "metadata": {},
     "output_type": "execute_result"
    }
   ],
   "source": [
    "input_unscaled"
   ]
  },
  {
   "cell_type": "markdown",
   "metadata": {},
   "source": [
    "## Standardize the data"
   ]
  },
  {
   "cell_type": "code",
   "execution_count": 30,
   "metadata": {},
   "outputs": [],
   "source": [
    "# standardize the inputs\n",
    "\n",
    "# standardization is one of the most common preprocessing tools\n",
    "# since data of different magnitude (scale) can be biased towards high values,\n",
    "# we want all inputs to be of similar magnitude\n",
    "# this is a peculiarity of machine learning in general - most (but not all) algorithms do badly with unscaled data\n",
    "\n",
    "# a very useful module we can use is StandardScaler \n",
    "# it has much more capabilities than the straightforward 'preprocessing' method\n",
    "\n",
    "\n",
    "# we will create a variable that will contain the scaling information for this particular dataset\n",
    "# here's the full documentation: http://scikit-learn.org/stable/modules/generated/sklearn.preprocessing.StandardScaler.html\n",
    "\n",
    "# define scaler as an object\n",
    "Social_Network_scaler = StandardScaler()"
   ]
  },
  {
   "cell_type": "code",
   "execution_count": 31,
   "metadata": {},
   "outputs": [],
   "source": [
    "# import the libraries needed to create the Custom Scaler\n",
    "# note that all of them are a part of the sklearn package\n",
    "# moreover, one of them is actually the StandardScaler module, \n",
    "# so you can imagine that the Custom Scaler is build on it\n",
    "\n",
    "from sklearn.base import BaseEstimator, TransformerMixin\n",
    "\n",
    "\n",
    "# create the Custom Scaler class\n",
    "\n",
    "class CustomScaler(BaseEstimator,TransformerMixin): \n",
    "    \n",
    "    # init or what information we need to declare a CustomScaler object\n",
    "    # and what is calculated/declared as we do\n",
    "    \n",
    "    def __init__(self,columns,copy=True,with_mean=True,with_std=True):\n",
    "        \n",
    "        # scaler is nothing but a Standard Scaler object\n",
    "        self.scaler = StandardScaler(copy,with_mean,with_std)\n",
    "        # with some columns 'twist'\n",
    "        self.columns = columns\n",
    "        self.mean_ = None\n",
    "        self.var_ = None\n",
    "        \n",
    "    \n",
    "    # the fit method, which, again based on StandardScale\n",
    "    \n",
    "    def fit(self, X, y=None):\n",
    "        self.scaler.fit(X[self.columns], y)\n",
    "        self.mean_ = np.mean(X[self.columns])\n",
    "        self.var_ = np.var(X[self.columns])\n",
    "        return self\n",
    "    \n",
    "    # the transform method which does the actual scaling\n",
    "\n",
    "    def transform(self, X, y=None, copy=None):\n",
    "        \n",
    "        # record the initial order of the columns\n",
    "        init_col_order = X.columns\n",
    "        \n",
    "        # scale all features that you chose when creating the instance of the class\n",
    "        X_scaled = pd.DataFrame(self.scaler.transform(X[self.columns]), columns=self.columns)\n",
    "        \n",
    "        # declare a variable containing all information that was not scaled\n",
    "        X_not_scaled = X.loc[:,~X.columns.isin(self.columns)]\n",
    "        \n",
    "        # return a data frame which contains all scaled features and all 'not scaled' features\n",
    "        # use the original order (that you recorded in the beginning)\n",
    "        return pd.concat([X_not_scaled, X_scaled], axis=1)[init_col_order]"
   ]
  },
  {
   "cell_type": "code",
   "execution_count": 33,
   "metadata": {},
   "outputs": [
    {
     "data": {
      "text/plain": [
       "array(['Age', 'EstimatedSalary', 'Gender_n'], dtype=object)"
      ]
     },
     "execution_count": 33,
     "metadata": {},
     "output_type": "execute_result"
    }
   ],
   "source": [
    "# check what are all columns that we've got\n",
    "input_unscaled.columns.values"
   ]
  },
  {
   "cell_type": "code",
   "execution_count": 34,
   "metadata": {},
   "outputs": [],
   "source": [
    "# choose the columns to scale\n",
    "# we later augmented this code and put it in comments\n",
    "# columns_to_scale = ['Month Value','Day of the Week', 'Transportation Expense', 'Distance to Work',\n",
    "       #'Age', 'Daily Work Load Average', 'Body Mass Index', 'Children', 'Pet']\n",
    "    \n",
    "# select the columns to omit\n",
    "columns_to_omit = ['Gender_n']"
   ]
  },
  {
   "cell_type": "code",
   "execution_count": 35,
   "metadata": {},
   "outputs": [],
   "source": [
    "# create the columns to scale, based on the columns to omit\n",
    "# use list comprehension to iterate over the list\n",
    "columns_to_scale = [x for x in input_unscaled.columns.values if x not in columns_to_omit]"
   ]
  },
  {
   "cell_type": "code",
   "execution_count": 36,
   "metadata": {},
   "outputs": [],
   "source": [
    "# declare a scaler object, specifying the columns you want to scale\n",
    "Social_Network_scaler = CustomScaler(columns_to_scale)"
   ]
  },
  {
   "cell_type": "code",
   "execution_count": 38,
   "metadata": {},
   "outputs": [
    {
     "name": "stderr",
     "output_type": "stream",
     "text": [
      "C:\\Users\\gusal\\Anaconda3\\lib\\site-packages\\sklearn\\base.py:197: FutureWarning: From version 0.24, get_params will raise an AttributeError if a parameter cannot be retrieved as an instance attribute. Previously it would return None.\n",
      "  FutureWarning)\n"
     ]
    },
    {
     "data": {
      "text/plain": [
       "CustomScaler(columns=['Age', 'EstimatedSalary'], copy=None, with_mean=None,\n",
       "             with_std=None)"
      ]
     },
     "execution_count": 38,
     "metadata": {},
     "output_type": "execute_result"
    }
   ],
   "source": [
    "# fit the data (calculate mean and standard deviation); they are automatically stored inside the object \n",
    "Social_Network_scaler.fit(input_unscaled)"
   ]
  },
  {
   "cell_type": "code",
   "execution_count": 39,
   "metadata": {},
   "outputs": [],
   "source": [
    "# standardizes the data, using the transform method \n",
    "# in the last line, we fitted the data - in other words\n",
    "# we found the internal parameters of a model that will be used to transform data. \n",
    "# transforming applies these parameters to our data\n",
    "# note that when you get new data, you can just call 'scaler' again and transform it in the same way as now\n",
    "scaled_inputs = Social_Network_scaler.transform(input_unscaled)"
   ]
  },
  {
   "cell_type": "code",
   "execution_count": 40,
   "metadata": {
    "collapsed": true
   },
   "outputs": [
    {
     "data": {
      "text/html": [
       "<div>\n",
       "<style scoped>\n",
       "    .dataframe tbody tr th:only-of-type {\n",
       "        vertical-align: middle;\n",
       "    }\n",
       "\n",
       "    .dataframe tbody tr th {\n",
       "        vertical-align: top;\n",
       "    }\n",
       "\n",
       "    .dataframe thead th {\n",
       "        text-align: right;\n",
       "    }\n",
       "</style>\n",
       "<table border=\"1\" class=\"dataframe\">\n",
       "  <thead>\n",
       "    <tr style=\"text-align: right;\">\n",
       "      <th></th>\n",
       "      <th>Age</th>\n",
       "      <th>EstimatedSalary</th>\n",
       "      <th>Gender_n</th>\n",
       "    </tr>\n",
       "  </thead>\n",
       "  <tbody>\n",
       "    <tr>\n",
       "      <th>0</th>\n",
       "      <td>-1.781797</td>\n",
       "      <td>-1.490046</td>\n",
       "      <td>1</td>\n",
       "    </tr>\n",
       "    <tr>\n",
       "      <th>1</th>\n",
       "      <td>-0.253587</td>\n",
       "      <td>-1.460681</td>\n",
       "      <td>1</td>\n",
       "    </tr>\n",
       "    <tr>\n",
       "      <th>2</th>\n",
       "      <td>-1.113206</td>\n",
       "      <td>-0.785290</td>\n",
       "      <td>0</td>\n",
       "    </tr>\n",
       "    <tr>\n",
       "      <th>3</th>\n",
       "      <td>-1.017692</td>\n",
       "      <td>-0.374182</td>\n",
       "      <td>0</td>\n",
       "    </tr>\n",
       "    <tr>\n",
       "      <th>4</th>\n",
       "      <td>-1.781797</td>\n",
       "      <td>0.183751</td>\n",
       "      <td>1</td>\n",
       "    </tr>\n",
       "    <tr>\n",
       "      <th>...</th>\n",
       "      <td>...</td>\n",
       "      <td>...</td>\n",
       "      <td>...</td>\n",
       "    </tr>\n",
       "    <tr>\n",
       "      <th>395</th>\n",
       "      <td>0.797057</td>\n",
       "      <td>-0.844019</td>\n",
       "      <td>0</td>\n",
       "    </tr>\n",
       "    <tr>\n",
       "      <th>396</th>\n",
       "      <td>1.274623</td>\n",
       "      <td>-1.372587</td>\n",
       "      <td>1</td>\n",
       "    </tr>\n",
       "    <tr>\n",
       "      <th>397</th>\n",
       "      <td>1.179110</td>\n",
       "      <td>-1.460681</td>\n",
       "      <td>0</td>\n",
       "    </tr>\n",
       "    <tr>\n",
       "      <th>398</th>\n",
       "      <td>-0.158074</td>\n",
       "      <td>-1.078938</td>\n",
       "      <td>1</td>\n",
       "    </tr>\n",
       "    <tr>\n",
       "      <th>399</th>\n",
       "      <td>1.083596</td>\n",
       "      <td>-0.990844</td>\n",
       "      <td>0</td>\n",
       "    </tr>\n",
       "  </tbody>\n",
       "</table>\n",
       "<p>400 rows × 3 columns</p>\n",
       "</div>"
      ],
      "text/plain": [
       "          Age  EstimatedSalary  Gender_n\n",
       "0   -1.781797        -1.490046         1\n",
       "1   -0.253587        -1.460681         1\n",
       "2   -1.113206        -0.785290         0\n",
       "3   -1.017692        -0.374182         0\n",
       "4   -1.781797         0.183751         1\n",
       "..        ...              ...       ...\n",
       "395  0.797057        -0.844019         0\n",
       "396  1.274623        -1.372587         1\n",
       "397  1.179110        -1.460681         0\n",
       "398 -0.158074        -1.078938         1\n",
       "399  1.083596        -0.990844         0\n",
       "\n",
       "[400 rows x 3 columns]"
      ]
     },
     "execution_count": 40,
     "metadata": {},
     "output_type": "execute_result"
    }
   ],
   "source": [
    "scaled_inputs"
   ]
  },
  {
   "cell_type": "markdown",
   "metadata": {},
   "source": [
    "### Balance the dataset"
   ]
  },
  {
   "cell_type": "code",
   "execution_count": 41,
   "metadata": {},
   "outputs": [],
   "source": [
    "#creating a variable that contain the number of items in the array target\n",
    "num_one_targets = int(np.sum(target))"
   ]
  },
  {
   "cell_type": "markdown",
   "metadata": {},
   "source": [
    "BALANCE: MACHING THE QUANTITY OF ZEROS AND ONES, THIS IS REQUIRED TO HAVE A GOOD MODEL"
   ]
  },
  {
   "cell_type": "code",
   "execution_count": 42,
   "metadata": {},
   "outputs": [
    {
     "data": {
      "text/plain": [
       "array([[  0,   1],\n",
       "       [257, 143]], dtype=int64)"
      ]
     },
     "execution_count": 42,
     "metadata": {},
     "output_type": "execute_result"
    }
   ],
   "source": [
    "unique_elements, counts_elements = np.unique(target, return_counts=True)\n",
    "np.asarray((unique_elements, counts_elements))"
   ]
  },
  {
   "cell_type": "markdown",
   "metadata": {},
   "source": [
    "THERE ARE 257 - 143 = 114, ZEROS THAN ONE's"
   ]
  },
  {
   "cell_type": "code",
   "execution_count": 43,
   "metadata": {},
   "outputs": [],
   "source": [
    "# Count how many targets are 1 (meaning that the customer did convert)\n",
    "num_one_targets = int(np.sum(target))\n",
    "\n",
    "# Set a counter for targets that are 0 (meaning that the customer did not convert)\n",
    "zero_targets_counter = 0\n",
    "\n",
    "# We want to create a \"balanced\" dataset, so we will have to remove some input/target pairs.\n",
    "# Declare a variable that will do that:\n",
    "indices_to_remove = []\n",
    "\n",
    "# Count the number of targets that are 0. \n",
    "# Once there are as many 0s as 1s, mark entries where the target is 0.\n",
    "for i in range(target.shape[0]):\n",
    "    if target[i] == 0:\n",
    "        zero_targets_counter += 1\n",
    "        if zero_targets_counter > num_one_targets:\n",
    "            indices_to_remove.append(i)\n"
   ]
  },
  {
   "cell_type": "markdown",
   "metadata": {},
   "source": [
    ".to_numpy() ==> conversion from dataframes to numpy arrays retaining column dtypes and names"
   ]
  },
  {
   "cell_type": "code",
   "execution_count": 46,
   "metadata": {},
   "outputs": [],
   "source": [
    "scaled_inputs = scaled_inputs.to_numpy()"
   ]
  },
  {
   "cell_type": "code",
   "execution_count": 48,
   "metadata": {},
   "outputs": [
    {
     "data": {
      "text/plain": [
       "(400, 3)"
      ]
     },
     "execution_count": 48,
     "metadata": {},
     "output_type": "execute_result"
    }
   ],
   "source": [
    "input_unscaled.shape"
   ]
  },
  {
   "cell_type": "code",
   "execution_count": 49,
   "metadata": {},
   "outputs": [],
   "source": [
    "# Create two new variables, one that will contain the inputs, and one that will contain the targets.\n",
    "# We delete all indices that we marked \"to remove\" in the loop above.\n",
    "x_scaled = np.delete(scaled_inputs, indices_to_remove, axis=0)\n"
   ]
  },
  {
   "cell_type": "code",
   "execution_count": 50,
   "metadata": {},
   "outputs": [],
   "source": [
    "target = np.delete(target, indices_to_remove, axis=0)"
   ]
  },
  {
   "cell_type": "code",
   "execution_count": 51,
   "metadata": {},
   "outputs": [
    {
     "data": {
      "text/plain": [
       "(286,)"
      ]
     },
     "execution_count": 51,
     "metadata": {},
     "output_type": "execute_result"
    }
   ],
   "source": [
    "target.shape"
   ]
  },
  {
   "cell_type": "code",
   "execution_count": 52,
   "metadata": {},
   "outputs": [
    {
     "data": {
      "text/plain": [
       "(286, 3)"
      ]
     },
     "execution_count": 52,
     "metadata": {},
     "output_type": "execute_result"
    }
   ],
   "source": [
    "x_scaled.shape"
   ]
  },
  {
   "cell_type": "code",
   "execution_count": 53,
   "metadata": {
    "collapsed": true
   },
   "outputs": [
    {
     "data": {
      "text/plain": [
       "array([[-1.78179743, -1.49004624,  1.        ],\n",
       "       [-0.25358736, -1.46068138,  1.        ],\n",
       "       [-1.11320552, -0.78528968,  0.        ],\n",
       "       [-1.01769239, -0.37418169,  0.        ],\n",
       "       [-1.78179743,  0.18375059,  1.        ],\n",
       "       [-1.01769239, -0.34481683,  1.        ],\n",
       "       [-1.01769239,  0.41866944,  0.        ],\n",
       "       [-0.54012675,  2.35674998,  0.        ],\n",
       "       [-1.20871865, -1.07893824,  1.        ],\n",
       "       [-0.25358736, -0.13926283,  0.        ],\n",
       "       [-1.11320552,  0.30121002,  0.        ],\n",
       "       [-1.11320552, -0.52100597,  0.        ],\n",
       "       [-1.6862843 ,  0.47739916,  1.        ],\n",
       "       [-0.54012675, -1.51941109,  1.        ],\n",
       "       [-1.87731056,  0.35993973,  1.        ],\n",
       "       [-0.82666613,  0.30121002,  1.        ],\n",
       "       [ 0.89257019, -1.3138571 ,  1.        ],\n",
       "       [ 0.70154394, -1.28449224,  1.        ],\n",
       "       [ 0.79705706, -1.22576253,  1.        ],\n",
       "       [ 0.98808332, -1.19639767,  0.        ],\n",
       "       [ 0.70154394, -1.40195167,  1.        ],\n",
       "       [ 0.89257019, -0.60910054,  0.        ],\n",
       "       [ 0.98808332, -0.84401939,  1.        ],\n",
       "       [ 0.70154394, -1.40195167,  0.        ],\n",
       "       [ 0.79705706, -1.37258681,  1.        ],\n",
       "       [ 0.89257019, -1.46068138,  1.        ],\n",
       "       [ 1.08359645, -1.22576253,  1.        ],\n",
       "       [ 0.89257019, -1.16703281,  0.        ],\n",
       "       [-0.82666613, -0.78528968,  1.        ],\n",
       "       [-0.63563988, -1.51941109,  1.        ],\n",
       "       [-0.63563988,  0.12502088,  1.        ],\n",
       "       [-1.01769239,  1.97500684,  0.        ],\n",
       "       [-1.59077117, -1.5781408 ,  0.        ],\n",
       "       [-0.92217926, -0.75592482,  0.        ],\n",
       "       [-1.01769239,  0.59485858,  1.        ],\n",
       "       [-0.25358736, -1.25512738,  1.        ],\n",
       "       [-0.44461362, -1.22576253,  0.        ],\n",
       "       [-0.73115301, -0.60910054,  1.        ],\n",
       "       [-1.11320552,  0.06629116,  0.        ],\n",
       "       [-1.01769239, -1.13766796,  0.        ],\n",
       "       [-1.01769239, -1.54877595,  0.        ],\n",
       "       [-0.44461362, -0.55037082,  0.        ],\n",
       "       [-0.25358736,  1.123426  ,  1.        ],\n",
       "       [-0.73115301, -1.60750566,  1.        ],\n",
       "       [-0.92217926,  0.41866944,  0.        ],\n",
       "       [-1.39974491, -1.46068138,  1.        ],\n",
       "       [-1.20871865,  0.27184516,  1.        ],\n",
       "       [-1.01769239, -0.46227625,  0.        ],\n",
       "       [-0.73115301,  1.91627713,  1.        ],\n",
       "       [-0.63563988,  0.56549373,  0.        ],\n",
       "       [-1.30423178, -1.1083031 ,  0.        ],\n",
       "       [-1.87731056, -0.75592482,  0.        ],\n",
       "       [-0.82666613,  0.38930459,  0.        ],\n",
       "       [-0.25358736, -1.37258681,  0.        ],\n",
       "       [-1.01769239, -0.34481683,  0.        ],\n",
       "       [-1.30423178, -0.4329114 ,  0.        ],\n",
       "       [-1.39974491, -0.63846539,  0.        ],\n",
       "       [-0.92217926,  0.27184516,  1.        ],\n",
       "       [-1.49525804, -1.51941109,  1.        ],\n",
       "       [-0.54012675,  1.38770971,  0.        ],\n",
       "       [-1.01769239, -1.46068138,  1.        ],\n",
       "       [-1.20871865,  0.50676401,  1.        ],\n",
       "       [-1.39974491, -0.10989798,  0.        ],\n",
       "       [-0.54012675,  1.47580428,  1.        ],\n",
       "       [ 2.03872775,  0.38930459,  0.        ],\n",
       "       [-1.30423178, -0.34481683,  1.        ],\n",
       "       [-1.30423178, -1.49004624,  1.        ],\n",
       "       [-1.39974491,  0.35993973,  0.        ],\n",
       "       [-1.49525804, -0.19799255,  0.        ],\n",
       "       [-0.63563988, -0.05116826,  0.        ],\n",
       "       [-1.20871865,  0.30121002,  1.        ],\n",
       "       [-1.30423178, -1.25512738,  0.        ],\n",
       "       [-1.6862843 , -1.37258681,  0.        ],\n",
       "       [-0.44461362,  1.27025028,  0.        ],\n",
       "       [-0.54012675, -1.51941109,  1.        ],\n",
       "       [-0.34910049,  1.24088543,  1.        ],\n",
       "       [-1.87731056, -0.52100597,  1.        ],\n",
       "       [-1.49525804, -1.25512738,  0.        ],\n",
       "       [-0.92217926,  0.50676401,  0.        ],\n",
       "       [-1.11320552, -1.54877595,  0.        ],\n",
       "       [-0.73115301,  0.30121002,  1.        ],\n",
       "       [ 0.12846516, -0.81465453,  1.        ],\n",
       "       [-1.6862843 , -0.60910054,  1.        ],\n",
       "       [-0.25358736,  0.53612887,  1.        ],\n",
       "       [-0.73115301, -0.2273574 ,  0.        ],\n",
       "       [-0.63563988,  1.41707457,  0.        ],\n",
       "       [-1.30423178, -0.4329114 ,  1.        ],\n",
       "       [-0.92217926,  0.4480343 ,  0.        ],\n",
       "       [-1.11320552,  0.33057487,  1.        ],\n",
       "       [-0.25358736, -0.57973568,  1.        ],\n",
       "       [-1.49525804,  0.33057487,  1.        ],\n",
       "       [-0.73115301,  1.35834485,  0.        ],\n",
       "       [-1.11320552, -1.60750566,  1.        ],\n",
       "       [-0.82666613, -1.22576253,  0.        ],\n",
       "       [-0.82666613,  0.38930459,  0.        ],\n",
       "       [-0.25358736, -0.75592482,  0.        ],\n",
       "       [-0.25358736, -1.3138571 ,  0.        ],\n",
       "       [-0.92217926,  1.56389885,  1.        ],\n",
       "       [-0.25358736,  0.09565602,  1.        ],\n",
       "       [-0.92217926, -0.96147882,  0.        ],\n",
       "       [-1.01769239,  0.53612887,  1.        ],\n",
       "       [-0.92217926, -0.31545197,  1.        ],\n",
       "       [-0.54012675,  0.47739916,  0.        ],\n",
       "       [-0.44461362,  2.32738512,  0.        ],\n",
       "       [-1.78179743, -1.43131652,  0.        ],\n",
       "       [-1.59077117,  0.06629116,  1.        ],\n",
       "       [-1.11320552, -1.02020853,  0.        ],\n",
       "       [-1.01769239,  0.56549373,  1.        ],\n",
       "       [-1.11320552,  0.47739916,  1.        ],\n",
       "       [ 0.03295203,  0.30121002,  0.        ],\n",
       "       [ 0.12846516,  0.03692631,  0.        ],\n",
       "       [-0.0625611 ,  0.03692631,  0.        ],\n",
       "       [ 0.03295203, -0.25672226,  1.        ],\n",
       "       [-0.0625611 , -0.4329114 ,  1.        ],\n",
       "       [ 0.41500455,  0.30121002,  1.        ],\n",
       "       [ 0.22397829, -0.37418169,  1.        ],\n",
       "       [-0.25358736,  0.15438573,  1.        ],\n",
       "       [-0.15807423, -0.52100597,  1.        ],\n",
       "       [ 0.22397829, -0.31545197,  1.        ],\n",
       "       [ 0.31949142, -0.31545197,  1.        ],\n",
       "       [-0.15807423,  0.15438573,  0.        ],\n",
       "       [-0.0625611 ,  0.06629116,  1.        ],\n",
       "       [ 0.22397829,  0.15438573,  0.        ],\n",
       "       [-0.25358736, -0.49164111,  1.        ],\n",
       "       [ 0.31949142, -0.55037082,  0.        ],\n",
       "       [ 0.12846516, -0.25672226,  0.        ],\n",
       "       [ 0.41500455, -0.13926283,  1.        ],\n",
       "       [-1.11320552, -1.1083031 ,  1.        ],\n",
       "       [-0.73115301, -1.54877595,  1.        ],\n",
       "       [-1.11320552,  0.41866944,  0.        ],\n",
       "       [-0.63563988, -0.34481683,  1.        ],\n",
       "       [-0.44461362, -1.13766796,  1.        ],\n",
       "       [-0.73115301,  0.50676401,  1.        ],\n",
       "       [-1.59077117, -0.05116826,  0.        ],\n",
       "       [-0.92217926, -0.4329114 ,  0.        ],\n",
       "       [-1.39974491, -0.19799255,  1.        ],\n",
       "       [-1.6862843 ,  0.35993973,  0.        ],\n",
       "       [-0.73115301,  1.09406114,  1.        ],\n",
       "       [-0.92217926, -0.31545197,  0.        ],\n",
       "       [-1.78179743, -1.3138571 ,  1.        ],\n",
       "       [-1.78179743,  0.4480343 ,  1.        ],\n",
       "       [-1.87731056, -0.05116826,  0.        ],\n",
       "       [-0.25358736, -0.31545197,  1.        ],\n",
       "       [-0.73115301,  0.56549373,  1.        ],\n",
       "       [-0.34910049, -1.3138571 ,  0.        ],\n",
       "       [-1.30423178,  0.56549373,  0.        ],\n",
       "       [-1.01769239,  0.77104772,  0.        ],\n",
       "       [ 0.31949142, -1.16703281,  0.        ],\n",
       "       [-0.82666613, -0.25672226,  1.        ],\n",
       "       [-1.6862843 ,  0.12502088,  1.        ],\n",
       "       [-1.11320552, -1.60750566,  0.        ],\n",
       "       [ 0.31949142, -0.72655996,  1.        ],\n",
       "       [-0.63563988,  0.18375059,  1.        ],\n",
       "       [-0.15807423, -0.57973568,  0.        ],\n",
       "       [ 0.22397829, -0.66783025,  1.        ],\n",
       "       [-0.63563988, -1.60750566,  0.        ],\n",
       "       [ 0.79705706, -0.31545197,  1.        ],\n",
       "       [-0.82666613,  0.15438573,  1.        ],\n",
       "       [-1.11320552, -1.16703281,  1.        ],\n",
       "       [-0.54012675,  1.91627713,  0.        ],\n",
       "       [-0.54012675,  0.88850715,  1.        ],\n",
       "       [-1.20871865,  0.59485858,  1.        ],\n",
       "       [-0.0625611 , -1.07893824,  0.        ],\n",
       "       [-0.25358736, -0.93211396,  1.        ],\n",
       "       [-0.44461362, -0.02180341,  0.        ],\n",
       "       [-1.87731056,  0.47739916,  0.        ],\n",
       "       [-1.49525804, -0.4329114 ,  0.        ],\n",
       "       [-0.82666613,  2.29802026,  1.        ],\n",
       "       [-0.54012675,  1.38770971,  0.        ],\n",
       "       [ 0.12846516,  1.88691227,  0.        ],\n",
       "       [ 1.94321462,  0.917872  ,  0.        ],\n",
       "       [ 1.65667523,  1.76945285,  0.        ],\n",
       "       [ 0.22397829,  2.12183112,  0.        ],\n",
       "       [ 0.98808332,  0.77104772,  0.        ],\n",
       "       [ 1.37013584,  2.35674998,  1.        ],\n",
       "       [ 2.13424088,  1.123426  ,  0.        ],\n",
       "       [ 2.03872775,  2.15119598,  1.        ],\n",
       "       [-0.25358736,  0.62422344,  1.        ],\n",
       "       [-0.0625611 ,  2.18056084,  1.        ],\n",
       "       [ 2.13424088,  0.94723686,  1.        ],\n",
       "       [-0.15807423,  1.65199342,  0.        ],\n",
       "       [ 1.75218836,  1.85754742,  1.        ],\n",
       "       [ 0.41500455,  0.30121002,  0.        ],\n",
       "       [-0.25358736,  2.26865541,  0.        ],\n",
       "       [ 0.22397829,  1.09406114,  1.        ],\n",
       "       [ 1.08359645,  0.47739916,  1.        ],\n",
       "       [ 0.79705706,  0.27184516,  1.        ],\n",
       "       [ 1.46564897,  2.15119598,  0.        ],\n",
       "       [ 0.41500455,  2.32738512,  1.        ],\n",
       "       [ 1.17910958,  0.53612887,  0.        ],\n",
       "       [ 1.75218836,  1.00596657,  0.        ],\n",
       "       [ 1.27462271,  2.23929055,  0.        ],\n",
       "       [ 1.84770149,  1.53453399,  0.        ],\n",
       "       [-0.25358736,  0.80041258,  0.        ],\n",
       "       [ 0.98808332,  1.88691227,  0.        ],\n",
       "       [-0.0625611 ,  2.23929055,  0.        ],\n",
       "       [ 1.37013584,  0.59485858,  0.        ],\n",
       "       [ 1.94321462,  0.74168287,  0.        ],\n",
       "       [ 0.70154394,  1.7988177 ,  0.        ],\n",
       "       [-0.15807423,  2.18056084,  1.        ],\n",
       "       [ 1.65667523,  1.62262856,  0.        ],\n",
       "       [ 0.98808332,  0.59485858,  1.        ],\n",
       "       [ 0.41500455,  1.123426  ,  0.        ],\n",
       "       [ 0.89257019,  2.18056084,  0.        ],\n",
       "       [ 2.03872775,  0.18375059,  0.        ],\n",
       "       [ 2.13424088, -0.81465453,  1.        ],\n",
       "       [ 0.12846516,  1.06469629,  1.        ],\n",
       "       [ 1.84770149, -1.28449224,  0.        ],\n",
       "       [ 1.84770149,  0.12502088,  1.        ],\n",
       "       [ 1.08359645,  0.53612887,  1.        ],\n",
       "       [ 1.37013584, -0.93211396,  0.        ],\n",
       "       [ 1.17910958, -0.99084367,  0.        ],\n",
       "       [ 2.03872775,  0.53612887,  0.        ],\n",
       "       [-0.0625611 ,  0.00756145,  1.        ],\n",
       "       [ 1.37013584, -1.43131652,  0.        ],\n",
       "       [-0.0625611 ,  0.68295315,  0.        ],\n",
       "       [ 0.98808332,  2.0043717 ,  0.        ],\n",
       "       [-0.0625611 ,  0.2424803 ,  0.        ],\n",
       "       [ 0.12846516,  1.88691227,  1.        ],\n",
       "       [ 1.08359645,  0.56549373,  1.        ],\n",
       "       [ 1.65667523, -0.9027491 ,  1.        ],\n",
       "       [ 0.41500455,  0.09565602,  1.        ],\n",
       "       [ 0.51051768,  1.24088543,  0.        ],\n",
       "       [ 0.79705706,  1.38770971,  1.        ],\n",
       "       [ 1.94321462, -0.93211396,  0.        ],\n",
       "       [ 0.98808332,  0.12502088,  1.        ],\n",
       "       [-0.0625611 ,  1.97500684,  0.        ],\n",
       "       [-0.0625611 ,  0.27184516,  1.        ],\n",
       "       [ 0.89257019,  1.27025028,  0.        ],\n",
       "       [-0.15807423,  1.62262856,  1.        ],\n",
       "       [ 0.12846516,  0.77104772,  1.        ],\n",
       "       [ 1.08359645,  2.09246627,  0.        ],\n",
       "       [ 0.12846516,  0.15438573,  0.        ],\n",
       "       [ 1.5611621 ,  1.00596657,  0.        ],\n",
       "       [ 0.70154394, -1.1083031 ,  1.        ],\n",
       "       [ 1.37013584,  2.0043717 ,  0.        ],\n",
       "       [ 1.46564897,  0.35993973,  0.        ],\n",
       "       [ 0.98808332, -1.16703281,  0.        ],\n",
       "       [ 0.98808332,  1.7988177 ,  0.        ],\n",
       "       [-0.15807423,  1.41707457,  1.        ],\n",
       "       [ 0.89257019,  1.09406114,  0.        ],\n",
       "       [ 0.98808332,  1.44643942,  0.        ],\n",
       "       [ 1.84770149, -0.28608712,  1.        ],\n",
       "       [ 1.94321462,  2.18056084,  1.        ],\n",
       "       [ 0.12846516,  1.53453399,  1.        ],\n",
       "       [ 1.46564897,  1.00596657,  0.        ],\n",
       "       [ 0.89257019, -0.55037082,  0.        ],\n",
       "       [ 0.89257019,  1.03533143,  1.        ],\n",
       "       [ 1.46564897,  0.06629116,  1.        ],\n",
       "       [ 1.5611621 ,  1.123426  ,  0.        ],\n",
       "       [ 0.03295203,  1.27025028,  0.        ],\n",
       "       [ 0.41500455,  0.59485858,  0.        ],\n",
       "       [-0.15807423,  0.85914229,  1.        ],\n",
       "       [ 2.13424088, -1.04957339,  1.        ],\n",
       "       [ 1.5611621 ,  0.00756145,  1.        ],\n",
       "       [ 0.22397829,  0.03692631,  1.        ],\n",
       "       [ 0.51051768,  1.74008799,  1.        ],\n",
       "       [ 1.46564897, -1.04957339,  0.        ],\n",
       "       [ 0.89257019, -0.57973568,  0.        ],\n",
       "       [ 0.41500455,  1.00596657,  1.        ],\n",
       "       [ 2.03872775, -1.19639767,  0.        ],\n",
       "       [ 1.94321462, -0.66783025,  0.        ],\n",
       "       [ 0.79705706,  0.53612887,  1.        ],\n",
       "       [ 1.5611621 , -1.28449224,  0.        ],\n",
       "       [ 2.13424088, -0.69719511,  0.        ],\n",
       "       [ 2.13424088,  0.38930459,  1.        ],\n",
       "       [ 2.03872775,  1.76945285,  1.        ],\n",
       "       [ 0.79705706, -1.1083031 ,  0.        ],\n",
       "       [ 0.31949142,  0.50676401,  1.        ],\n",
       "       [ 1.94321462, -1.37258681,  0.        ],\n",
       "       [ 0.98808332, -1.07893824,  1.        ],\n",
       "       [ 0.60603081,  2.03373655,  0.        ],\n",
       "       [ 1.08359645, -1.22576253,  1.        ],\n",
       "       [ 1.84770149, -1.07893824,  0.        ],\n",
       "       [ 1.75218836, -0.28608712,  1.        ],\n",
       "       [ 1.08359645, -0.9027491 ,  0.        ],\n",
       "       [ 0.89257019, -1.04957339,  1.        ],\n",
       "       [ 0.98808332, -1.02020853,  0.        ],\n",
       "       [ 0.98808332, -1.07893824,  1.        ],\n",
       "       [ 0.89257019, -1.37258681,  1.        ],\n",
       "       [ 0.70154394, -0.72655996,  0.        ],\n",
       "       [ 2.13424088, -0.81465453,  1.        ],\n",
       "       [ 0.79705706, -0.84401939,  0.        ],\n",
       "       [ 1.27462271, -1.37258681,  1.        ],\n",
       "       [ 1.17910958, -1.46068138,  0.        ],\n",
       "       [ 1.08359645, -0.99084367,  0.        ]])"
      ]
     },
     "execution_count": 53,
     "metadata": {},
     "output_type": "execute_result"
    }
   ],
   "source": [
    "x_scaled"
   ]
  },
  {
   "cell_type": "code",
   "execution_count": null,
   "metadata": {},
   "outputs": [],
   "source": [
    "### Split the dataset into train and test"
   ]
  },
  {
   "cell_type": "code",
   "execution_count": 55,
   "metadata": {},
   "outputs": [],
   "source": [
    "X_Train, X_Test, Y_Train, Y_Test = train_test_split(x_scaled, target, test_size = 0.2, random_state = 0)\n"
   ]
  },
  {
   "cell_type": "code",
   "execution_count": 56,
   "metadata": {},
   "outputs": [],
   "source": [
    "sc_X = StandardScaler()\n",
    "X_Train = sc_X.fit_transform(X_Train)\n",
    "X_Test = sc_X.transform(X_Test)"
   ]
  },
  {
   "cell_type": "markdown",
   "metadata": {},
   "source": [
    "### Save the three datasets in *.npz"
   ]
  },
  {
   "cell_type": "code",
   "execution_count": 58,
   "metadata": {},
   "outputs": [],
   "source": [
    "# Save the three datasets in *.npz.\n",
    "# In the next lesson, you will see that it is extremely valuable to name them in such a coherent way!\n",
    "\n",
    "np.savez('Social_Network_Ads_data_train', inputs=X_Train, targets=Y_Train)\n",
    "np.savez('Social_Network_Ads_test', inputs=X_Test, targets=Y_Test)"
   ]
  },
  {
   "cell_type": "code",
   "execution_count": null,
   "metadata": {},
   "outputs": [],
   "source": []
  }
 ],
 "metadata": {
  "kernelspec": {
   "display_name": "Python 3",
   "language": "python",
   "name": "python3"
  },
  "language_info": {
   "codemirror_mode": {
    "name": "ipython",
    "version": 3
   },
   "file_extension": ".py",
   "mimetype": "text/x-python",
   "name": "python",
   "nbconvert_exporter": "python",
   "pygments_lexer": "ipython3",
   "version": "3.7.4"
  }
 },
 "nbformat": 4,
 "nbformat_minor": 2
}
